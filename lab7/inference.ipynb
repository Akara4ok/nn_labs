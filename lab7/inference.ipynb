{
 "cells": [
  {
   "cell_type": "code",
   "execution_count": 6,
   "metadata": {},
   "outputs": [
    {
     "name": "stderr",
     "output_type": "stream",
     "text": [
      "/home/vlad/.local/lib/python3.10/site-packages/tqdm/auto.py:21: TqdmWarning: IProgress not found. Please update jupyter and ipywidgets. See https://ipywidgets.readthedocs.io/en/stable/user_install.html\n",
      "  from .autonotebook import tqdm as notebook_tqdm\n"
     ]
    }
   ],
   "source": [
    "import sys\n",
    "import absl.logging\n",
    "absl.logging.set_verbosity(absl.logging.ERROR)\n",
    "import os\n",
    "import cv2\n",
    "import numpy as np\n",
    "\n",
    "os.environ['TF_CPP_MIN_LOG_LEVEL'] = '2' \n",
    "import tensorflow as tf\n",
    "\n",
    "sys.path.append('Dataset')\n",
    "import YelpDataset\n",
    "\n",
    "sys.path.append('config')\n",
    "import settings"
   ]
  },
  {
   "cell_type": "code",
   "execution_count": 7,
   "metadata": {},
   "outputs": [
    {
     "name": "stdout",
     "output_type": "stream",
     "text": [
      "Model: \"sequential_3\"\n",
      "_________________________________________________________________\n",
      " Layer (type)                Output Shape              Param #   \n",
      "=================================================================\n",
      " text_vectorization (TextVec  (None, None)             0         \n",
      " torization)                                                     \n",
      "                                                                 \n",
      " sequential (Sequential)     (None, 1)                 751489    \n",
      "                                                                 \n",
      "=================================================================\n",
      "Total params: 751,489\n",
      "Trainable params: 751,489\n",
      "Non-trainable params: 0\n",
      "_________________________________________________________________\n"
     ]
    }
   ],
   "source": [
    "model = tf.keras.models.load_model(\"Artifacts/Models/v1/Model/prod\")\n",
    "model.summary()"
   ]
  },
  {
   "cell_type": "code",
   "execution_count": 9,
   "metadata": {},
   "outputs": [],
   "source": [
    "train_ds, val_ds, test_ds = YelpDataset.load_data(settings.DATA_PATH, val_percent=settings.VAL_PERCENT, buffer_size=settings.BUFFER_SIZE, batch_size=settings.BATCH_SIZE)"
   ]
  },
  {
   "cell_type": "code",
   "execution_count": 10,
   "metadata": {},
   "outputs": [
    {
     "name": "stdout",
     "output_type": "stream",
     "text": [
      "75/75 [==============================] - 160s 2s/step - loss: 0.1564 - accuracy: 0.9386\n"
     ]
    },
    {
     "data": {
      "text/plain": [
       "[0.15640635788440704, 0.9386052489280701]"
      ]
     },
     "execution_count": 10,
     "metadata": {},
     "output_type": "execute_result"
    }
   ],
   "source": [
    "model.evaluate(test_ds)"
   ]
  },
  {
   "cell_type": "code",
   "execution_count": 14,
   "metadata": {},
   "outputs": [
    {
     "name": "stdout",
     "output_type": "stream",
     "text": [
      "16/16 [==============================] - 2s 101ms/step\n",
      "Text:  b'Was not impressed, and will not return.'\n",
      "True label: 0\n",
      "Predicted label: 0.0\n",
      "Text:  b'I went in to purchase overalls and was treated so rudely I had to walk out even though he had the item I wanted.  I will never step foot in this placec of business again.'\n",
      "True label: 0\n",
      "Predicted label: 0.0\n",
      "Text:  b'This place really is horrible... Every time I wind up getting convinced to go here, I always walk out feeling like my pocket has been picked. The food isn\\'t \\\\\"\"bad,\\\\\"\" but at roughly $25-$30 per person, there are SO many better places to eat. To hell with Olive Garden.\\\\n\\\\nAnd this particular one has the worst-smelling parking lot in Las Vegas... every time I drive by (to go to B.J.\\'s nearby, which is a thousand times better), it smells like a sewer main broke or something. \\\\n\\\\n2 stars only because the wait staff is friendly.'\n",
      "True label: 0\n",
      "Predicted label: 0.0\n",
      "Text:  b'First time visit.....  enjoyed their little cheese biscuits .... Had the ribs,beef brisket,mashed taters with gravy, Mac and cheese was goooood. Very cheesy and creamy just how I like it and collard greens had a smoky taste to it, wonderful....'\n",
      "True label: 1\n",
      "Predicted label: 1.0\n"
     ]
    }
   ],
   "source": [
    "for texts, label in test_ds.take(1):\n",
    "    predictions = np.round(np.squeeze(model.predict(texts), axis=-1))\n",
    "    label = label.numpy()\n",
    "    for index, text in enumerate(texts):\n",
    "        text = text.numpy()\n",
    "        print(\"Text: \", text)\n",
    "        print(\"True label:\", label[index])\n",
    "        print(\"Predicted label:\", predictions[index])\n",
    "        if(index > 2):\n",
    "            break"
   ]
  },
  {
   "cell_type": "code",
   "execution_count": 21,
   "metadata": {},
   "outputs": [
    {
     "name": "stdout",
     "output_type": "stream",
     "text": [
      "1/1 [==============================] - 0s 31ms/step\n",
      "Text:  It was a great journey\n",
      "Predicted label: 1.0\n",
      "Text:  It was a horrible experience\n",
      "Predicted label: 0.0\n",
      "Text:  I like this movie\n",
      "Predicted label: 1.0\n",
      "Text:  An overrated movie\n",
      "Predicted label: 0.0\n"
     ]
    }
   ],
   "source": [
    "texts = [\"It was a great journey\", \"It was a horrible experience\", \"I like this movie\", \"An overrated movie\"]\n",
    "predictions = np.round(np.squeeze(model.predict(texts), axis=-1))\n",
    "for index, text in enumerate(texts):\n",
    "    print(\"Text: \", text)\n",
    "    print(\"Predicted label:\", predictions[index])"
   ]
  },
  {
   "cell_type": "code",
   "execution_count": 8,
   "metadata": {},
   "outputs": [
    {
     "name": "stdout",
     "output_type": "stream",
     "text": [
      "1/1 [==============================] - 4s 4s/step\n",
      "Text:  Pizza with pineapples\n",
      "Predicted label: 1.0\n"
     ]
    }
   ],
   "source": [
    "texts = [\"Pizza with pineapples\"]\n",
    "predictions = np.round(np.squeeze(model.predict(texts), axis=-1))\n",
    "for index, text in enumerate(texts):\n",
    "    print(\"Text: \", text)\n",
    "    print(\"Predicted label:\", predictions[index])"
   ]
  },
  {
   "cell_type": "code",
   "execution_count": null,
   "metadata": {},
   "outputs": [],
   "source": []
  }
 ],
 "metadata": {
  "kernelspec": {
   "display_name": "Python 3",
   "language": "python",
   "name": "python3"
  },
  "language_info": {
   "codemirror_mode": {
    "name": "ipython",
    "version": 3
   },
   "file_extension": ".py",
   "mimetype": "text/x-python",
   "name": "python",
   "nbconvert_exporter": "python",
   "pygments_lexer": "ipython3",
   "version": "3.10.6"
  },
  "orig_nbformat": 4
 },
 "nbformat": 4,
 "nbformat_minor": 2
}
